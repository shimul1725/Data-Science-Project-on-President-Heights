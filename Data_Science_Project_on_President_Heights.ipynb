{
  "nbformat": 4,
  "nbformat_minor": 0,
  "metadata": {
    "colab": {
      "provenance": [],
      "authorship_tag": "ABX9TyPgBXK2Pli4fLsmtfJxqhT9",
      "include_colab_link": true
    },
    "kernelspec": {
      "name": "python3",
      "display_name": "Python 3"
    },
    "language_info": {
      "name": "python"
    }
  },
  "cells": [
    {
      "cell_type": "markdown",
      "metadata": {
        "id": "view-in-github",
        "colab_type": "text"
      },
      "source": [
        "<a href=\"https://colab.research.google.com/github/shimul1725/Data-Science-Project-on-President-Heights/blob/main/Data_Science_Project_on_President_Heights.ipynb\" target=\"_parent\"><img src=\"https://colab.research.google.com/assets/colab-badge.svg\" alt=\"Open In Colab\"/></a>"
      ]
    },
    {
      "cell_type": "code",
      "execution_count": 7,
      "metadata": {
        "colab": {
          "base_uri": "https://localhost:8080/"
        },
        "id": "iOFENtQpV8YJ",
        "outputId": "656403bc-1eb3-4c45-fc74-9413080376a2"
      },
      "outputs": [
        {
          "output_type": "stream",
          "name": "stdout",
          "text": [
            "   order               name  height(cm)\n",
            "0      1  George Washington         189\n",
            "1      2         John Adams         170\n",
            "2      3   Thomas Jefferson         189\n",
            "3      4      James Madison         163\n",
            "4      5       James Monroe         183\n"
          ]
        }
      ],
      "source": [
        "import pandas as pd\n",
        "import numpy as np\n",
        "import matplotlib.pyplot as plt\n",
        "import seaborn as sns\n",
        "data = pd.read_csv(\"president_heights.csv\")\n",
        "print(data.head())"
      ]
    },
    {
      "cell_type": "code",
      "source": [
        "height = np.array(data[\"height(cm)\"])\n",
        "print(height)"
      ],
      "metadata": {
        "colab": {
          "base_uri": "https://localhost:8080/"
        },
        "id": "KPoRR4eSW0G1",
        "outputId": "6a77c2c0-5e4b-420e-a691-f4164c2e1275"
      },
      "execution_count": 8,
      "outputs": [
        {
          "output_type": "stream",
          "name": "stdout",
          "text": [
            "[189 170 189 163 183 171 185 168 173 183 173 173 175 178 183 193 178 173\n",
            " 174 183 183 168 170 178 182 180 183 178 182 188 175 179 183 193 182 183\n",
            " 177 185 188 188 182 185]\n"
          ]
        }
      ]
    },
    {
      "cell_type": "code",
      "source": [
        "#I can compute a variety of summary statistics:\n",
        "print(\"Mean of heights =\", height.mean())\n",
        "print(\"Standard Deviation of height =\", height.std())\n",
        "print(\"Minimum height =\", height.min())\n",
        "print(\"Maximum height =\", height.max())"
      ],
      "metadata": {
        "colab": {
          "base_uri": "https://localhost:8080/"
        },
        "id": "ieOngYj1W-p1",
        "outputId": "b0daa12d-f041-4f69-f06c-62d502237ddc"
      },
      "execution_count": 9,
      "outputs": [
        {
          "output_type": "stream",
          "name": "stdout",
          "text": [
            "Mean of heights = 179.73809523809524\n",
            "Standard Deviation of height = 6.931843442745892\n",
            "Minimum height = 163\n",
            "Maximum height = 193\n"
          ]
        }
      ]
    },
    {
      "cell_type": "code",
      "source": [
        "#We may also wish to compute quantiles:\n",
        "\n",
        "print(\"25th percentile =\", np.percentile(height, 25))\n",
        "print(\"Median =\", np.median(height))\n",
        "print(\"75th percentile =\", np.percentile(height, 75))"
      ],
      "metadata": {
        "colab": {
          "base_uri": "https://localhost:8080/"
        },
        "id": "i0_wmmSFXNr-",
        "outputId": "f08a4463-b87a-4c20-d847-a097df137aca"
      },
      "execution_count": 10,
      "outputs": [
        {
          "output_type": "stream",
          "name": "stdout",
          "text": [
            "25th percentile = 174.25\n",
            "Median = 182.0\n",
            "75th percentile = 183.0\n"
          ]
        }
      ]
    },
    {
      "cell_type": "code",
      "source": [
        "sns.set()\n",
        "plt.hist(height)\n",
        "plt.title(\"Height Distribution of Presidents of USA\")\n",
        "plt.xlabel(\"height(cm)\")\n",
        "plt.ylabel(\"Number\")\n",
        "plt.show()"
      ],
      "metadata": {
        "colab": {
          "base_uri": "https://localhost:8080/",
          "height": 480
        },
        "id": "rL51cHKPXldF",
        "outputId": "798c2ad6-1347-4b27-dd0d-eb1fce24d060"
      },
      "execution_count": 11,
      "outputs": [
        {
          "output_type": "display_data",
          "data": {
            "text/plain": [
              "<Figure size 640x480 with 1 Axes>"
            ],
            "image/png": "[encoded data removed]"
          },
          "metadata": {}
        }
      ]
    }
  ]
}